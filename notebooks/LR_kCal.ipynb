{
 "cells": [
  {
   "cell_type": "code",
   "execution_count": null,
   "metadata": {
    "application/vnd.databricks.v1+cell": {
     "cellMetadata": {},
     "inputWidgets": {},
     "nuid": "65694dc6-91d7-41a5-bcca-f47fa8f66bed",
     "showTitle": false,
     "title": ""
    }
   },
   "outputs": [],
   "source": [
    "df=spark.read.format('delta').table('hive_metastore.jmr_ahk_test.dailyagg_mass_move_gold')\n",
    "display(df)"
   ]
  },
  {
   "cell_type": "code",
   "execution_count": null,
   "metadata": {
    "application/vnd.databricks.v1+cell": {
     "cellMetadata": {},
     "inputWidgets": {},
     "nuid": "b5c5abfd-cf7d-4070-accf-5ff946d75644",
     "showTitle": false,
     "title": ""
    }
   },
   "outputs": [],
   "source": [
    "from pyspark.ml.feature import Imputer\n",
    "from pyspark.sql.functions import col\n",
    "\n",
    "impute_cols = [\n",
    "    \"weightlb\"\n",
    "]\n",
    "imputer = Imputer(strategy=\"median\", inputCols=impute_cols, outputCols=impute_cols)\n",
    "\n",
    "imputer_model = imputer.fit(df)\n",
    "imputed_df = imputer_model.transform(df)\n",
    "\n",
    "display(imputed_df.orderBy(col('dateDay').desc()))"
   ]
  },
  {
   "cell_type": "code",
   "execution_count": null,
   "metadata": {
    "application/vnd.databricks.v1+cell": {
     "cellMetadata": {},
     "inputWidgets": {},
     "nuid": "70de01b0-fe40-41f6-bb52-0d65c7aeadf0",
     "showTitle": false,
     "title": ""
    }
   },
   "outputs": [],
   "source": [
    "train_df, test_df = imputed_df.randomSplit([.8, .2], seed=42)"
   ]
  },
  {
   "cell_type": "code",
   "execution_count": null,
   "metadata": {
    "application/vnd.databricks.v1+cell": {
     "cellMetadata": {},
     "inputWidgets": {},
     "nuid": "c62bb269-a243-46c4-9c90-2e4c0d218ffd",
     "showTitle": false,
     "title": ""
    }
   },
   "outputs": [],
   "source": [
    "display(train_df.select(\"restingBpm\", \"avgBpm\",\"dailyKcal\",\"weightlb\").summary())"
   ]
  },
  {
   "cell_type": "code",
   "execution_count": null,
   "metadata": {
    "application/vnd.databricks.v1+cell": {
     "cellMetadata": {},
     "inputWidgets": {},
     "nuid": "3e9e747c-58ec-4813-bb7f-f24e9ba3ed5e",
     "showTitle": false,
     "title": ""
    }
   },
   "outputs": [],
   "source": [
    "from pyspark.ml.feature import VectorAssembler\n",
    "input_cols = [\n",
    "  \"restingBpm\", \n",
    "  \"avgBpm\",\n",
    "  \"maxBpm\",\n",
    "  \"weightlb\"\n",
    "]\n",
    "vec_assembler = VectorAssembler(inputCols=input_cols, outputCol=\"features\")\n",
    "\n",
    "vec_train_df = vec_assembler.transform(train_df)"
   ]
  },
  {
   "cell_type": "code",
   "execution_count": null,
   "metadata": {
    "application/vnd.databricks.v1+cell": {
     "cellMetadata": {},
     "inputWidgets": {},
     "nuid": "7ff24858-751c-4f59-9697-acb478da8eb3",
     "showTitle": false,
     "title": ""
    }
   },
   "outputs": [],
   "source": [
    "from pyspark.ml.regression import LinearRegression\n",
    "\n",
    "lr = LinearRegression(featuresCol=\"features\", labelCol=\"dailyKcal\")\n",
    "lr_model = lr.fit(vec_train_df)"
   ]
  },
  {
   "cell_type": "code",
   "execution_count": null,
   "metadata": {
    "application/vnd.databricks.v1+cell": {
     "cellMetadata": {},
     "inputWidgets": {},
     "nuid": "96b048f1-3647-49c5-8ec6-985fbb578992",
     "showTitle": false,
     "title": ""
    }
   },
   "outputs": [],
   "source": [
    "m = lr_model.coefficients[0]\n",
    "b = lr_model.intercept\n",
    "\n",
    "print(f\"The formula for the linear regression line is y = {m:.2f}x + {b:.2f}\")"
   ]
  },
  {
   "cell_type": "code",
   "execution_count": null,
   "metadata": {
    "application/vnd.databricks.v1+cell": {
     "cellMetadata": {},
     "inputWidgets": {},
     "nuid": "65fba800-7089-4e89-9ad8-d13a1f83ef45",
     "showTitle": false,
     "title": ""
    }
   },
   "outputs": [],
   "source": [
    "vec_test_df = vec_assembler.transform(test_df)\n",
    "\n",
    "pred_df = lr_model.transform(vec_test_df)\n",
    "\n",
    "display(pred_df.select(\"dateDay\",\"dailyKcal\", \"prediction\").orderBy(col('dateDay').desc()))"
   ]
  },
  {
   "cell_type": "code",
   "execution_count": null,
   "metadata": {
    "application/vnd.databricks.v1+cell": {
     "cellMetadata": {},
     "inputWidgets": {},
     "nuid": "7a3a0073-a752-4054-82ab-f2ceca56a15f",
     "showTitle": false,
     "title": ""
    }
   },
   "outputs": [],
   "source": [
    "from pyspark.ml.evaluation import RegressionEvaluator\n",
    "\n",
    "regression_evaluator = RegressionEvaluator(predictionCol=\"prediction\", labelCol=\"dailyKcal\", metricName=\"rmse\")\n",
    "\n",
    "rmse = regression_evaluator.evaluate(pred_df)\n",
    "print(f\"RMSE is {rmse}\")"
   ]
  }
 ],
 "metadata": {
  "application/vnd.databricks.v1+notebook": {
   "dashboards": [],
   "language": "python",
   "notebookMetadata": {
    "pythonIndentUnit": 2
   },
   "notebookName": "LR_kCal",
   "notebookOrigID": 3538949528199065,
   "widgets": {}
  },
  "kernelspec": {
   "display_name": "databricks-cli",
   "language": "python",
   "name": "python3"
  },
  "language_info": {
   "name": "python",
   "version": "3.10.3"
  },
  "vscode": {
   "interpreter": {
    "hash": "8efb807d191dd47de0616c38037de77bec24129f0605f2a8c71be5be91157119"
   }
  }
 },
 "nbformat": 4,
 "nbformat_minor": 0
}
